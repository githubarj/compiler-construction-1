{
  "nbformat": 4,
  "nbformat_minor": 0,
  "metadata": {
    "colab": {
      "provenance": [],
      "include_colab_link": true
    },
    "kernelspec": {
      "name": "python3",
      "display_name": "Python 3"
    },
    "language_info": {
      "name": "python"
    }
  },
  "cells": [
    {
      "cell_type": "markdown",
      "metadata": {
        "id": "view-in-github",
        "colab_type": "text"
      },
      "source": [
        "<a href=\"https://colab.research.google.com/github/joel-rodgers/compiler-construction/blob/main/Lab_Activity_5.ipynb\" target=\"_parent\"><img src=\"https://colab.research.google.com/assets/colab-badge.svg\" alt=\"Open In Colab\"/></a>"
      ]
    },
    {
      "cell_type": "markdown",
      "source": [
        "**GROUP MEMBERS (ICS4C)**\n",
        "1.   122184-Joel Rodgers K'obara\n",
        "2.   120226-Davies Nathan Akidiva\n",
        "3.   115862-Richard Jeremy Githuba\n",
        "4.   121660-Alex Wamai Kariuki\n",
        "5.   120357-Bettyrose Mburu\n"
      ],
      "metadata": {
        "id": "90Ku0hcu1BiH"
      }
    },
    {
      "cell_type": "markdown",
      "source": [
        "**Lab Activity for Week starting 17th October**"
      ],
      "metadata": {
        "id": "f2ULaHQT1I9I"
      }
    },
    {
      "cell_type": "markdown",
      "source": [
        "**1. Review what syntax analysis is and in a few words, describe what this phase of compiler construction entails.**"
      ],
      "metadata": {
        "id": "59BI0lZK1FEZ"
      }
    },
    {
      "cell_type": "markdown",
      "source": [
        "Syntax Analysis is the second phase of compiler design process whereby the input string is checked for the confirmation of rules and structure of the formal grammar.\n",
        "It also checks whether a given program fulfills the rules implied by a context-free grammar, if it satisfies the rules then creates the parser tree of the source program otherwise displays error messages."
      ],
      "metadata": {
        "id": "G2GIYy6yBUQ9"
      }
    },
    {
      "cell_type": "markdown",
      "source": [
        "**Importance of Syntax Analysis**\n",
        "1. Check if code is grammatically valid.\n",
        "2. It helps one apply relevant rules to code.\n",
        "3. Helps to make sure that each opening brace has its corresponding closing brace.\n",
        "Helps ensure each declaration has a type and that the type exists."
      ],
      "metadata": {
        "id": "jjSgmtFKCn0m"
      }
    },
    {
      "cell_type": "markdown",
      "source": [
        "**Important terminologies used in syntax analysis process include:**\n",
        "1. Sentence: It is a group of character over some alphabet.\n",
        "2. Lexeme: It is the lowest level of syntactic unit of a language.\n",
        "3. Token: It is a category of lexemes.\n",
        "4. Keywords and reserved words: Keyword is an identifier which is used as a fixed part of the syntax of a statement. Reserved word is a word which cannot be used as a variable name or identifier.\n",
        "5. Noise Words: These are optional words inserted in a statement to enhance the readability of a sentence.\n",
        "6. Comments: Used to explain the documentation or code.\n",
        "7. Delimiters: This marks the start or end of some syntactic unit.\n",
        "8. Identifiers: It is a restriction on the length which helps you to reduce the readability of the sentence."
      ],
      "metadata": {
        "id": "FZ_llQOuDLs3"
      }
    },
    {
      "cell_type": "markdown",
      "source": [
        "**2. Using Flex (lexical analyzer) and Bison (yacc), show how one can develop a simple syntax analyzer. [Consult the web, show and explain the simple codes that you find].**"
      ],
      "metadata": {
        "id": "z9Mg7lVs1Xq3"
      }
    },
    {
      "cell_type": "markdown",
      "source": [
        "A simple flex input file which has three parts: Declarations which declares variables, Translation rules matching the input string with regular expression set and Auxiliary Functions which implements the code"
      ],
      "metadata": {
        "id": "HI5Qmrkee1hw"
      }
    },
    {
      "cell_type": "code",
      "source": [
        "\n",
        "%{\n",
        "// part1: declarations\n",
        "#include \"y.tab.h\"\n",
        "%}\n",
        "%%\n",
        "// part2: translation rules\n",
        "[a-z] {\n",
        "         yylval.charVal = yytext[0]\n",
        "         return LOWERCASE\n",
        "      }\n",
        "[A-Z] {\n",
        "         yylval.charVal = yytext[0]\n",
        "         return UPPERCASE\n",
        "      }\n",
        "[0-9] {\n",
        "         yylval.intVal = atoi(yytext);\n",
        "         return INTEGER;\n",
        "      }\n",
        "%% \n",
        "// part3: auxiliary functions"
      ],
      "metadata": {
        "id": "YKytaRwoe7Yq"
      },
      "execution_count": null,
      "outputs": []
    },
    {
      "cell_type": "markdown",
      "source": [
        "A simple flex file which comes from the flex. Also divided into three parts: Declarations where definitions are set, Grammar rules which specify rules and actions of the grammar and Auxiliary functions which implements the code"
      ],
      "metadata": {
        "id": "167suSmQEotA"
      }
    },
    {
      "cell_type": "code",
      "source": [
        "%token INTEGER LOWERCASE UPPERCASE LEFT_B_P RIGHT_B_P COMMA\n",
        "%union {\n",
        "         char charVal;\n",
        "         int intVal;\n",
        "       }\n",
        "%{\n",
        "// part1: declarations\n",
        "#include \"stdio.h\"\n",
        "#include \"stdlib.h\"\n",
        "%}\n",
        "%%\n",
        "// part2: grammar rules\n",
        "program:\n",
        "    program statement '\\n'  {printf(\"success!\");}\n",
        "    |\n",
        "    ;\n",
        "statement:\n",
        "    expr size\n",
        "    ;\n",
        "size:\n",
        "    INTEGER                 {$$ = $1;}\n",
        "    |LEFT_B_P size RIGHT_B_P\n",
        "    |LEFT_B_P size COMMA size RIGHT_B_P\n",
        "    |LEFT_B_P size COMMA RIGHT_B_P\n",
        "    |'+'\n",
        "    |'*'\n",
        "    ;\n",
        "%%\n",
        "// part3: Auxilliary Functions\n",
        "int main(void)\n",
        "{  \n",
        "    yyparse();\n",
        "    return 0;\n",
        "}\n"
      ],
      "metadata": {
        "id": "Y_CmDwFYeEuG"
      },
      "execution_count": null,
      "outputs": []
    },
    {
      "cell_type": "markdown",
      "source": [
        "**References**"
      ],
      "metadata": {
        "id": "mmKxo93TeLNU"
      }
    },
    {
      "cell_type": "markdown",
      "source": [
        "1. Ken. (2022, January 10). Using Flex and bison to parse the regular expression. Medium. Retrieved October 24, 2022, from https://ken8989580.medium.com/using-flex-and-bison-to-parse-the-regular-expression-3eb3004539b8 \n",
        "\n",
        "2. Smith, J. (2022, October 22). Syntax Analysis: Compiler Top Down & Bottom Up Parsing Types. Guru99. Retrieved October 24, 2022, from https://www.guru99.com/syntax-analysis-parsing-types.html"
      ],
      "metadata": {
        "id": "Vafcu1f0hS48"
      }
    },
    {
      "cell_type": "markdown",
      "source": [],
      "metadata": {
        "id": "Wcv1HLIYjbh1"
      }
    }
  ]
}